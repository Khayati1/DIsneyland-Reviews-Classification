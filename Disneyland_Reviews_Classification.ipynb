{
  "cells": [
    {
      "cell_type": "markdown",
      "source": [
        "**DISNEYLAND REVIEWS**"
      ],
      "metadata": {
        "id": "-50eFgiHKe7V"
      }
    },
    {
      "cell_type": "markdown",
      "source": [
        "SUBMITTED BY: KHAYATI CHADHA\n",
        "ROLL NO: 015033\n",
        "COURSE: FUNCTIONAL ANALYTICS"
      ],
      "metadata": {
        "id": "8rkRnKqOKyyb"
      }
    },
    {
      "cell_type": "markdown",
      "source": [
        "The dataset includes 42,000 reviews of 3 Disneyland branches - Paris, California and Hong Kong, posted by visitors on Trip Advisor.\n",
        "\n",
        "Column Description:\n",
        "\n",
        "Review_ID: unique id given to each review\n",
        "\n",
        "1.   Rating: ranging from 1 (unsatisfied) to 5 (satisfied)\n",
        "2.   Year_Month: when the reviewer visited the theme park\n",
        "3.   Reviewer_Location: country of origin of visitor\n",
        "4.   Review_Text: comments made by visitor\n",
        "5.   Disneyland_Branch: location of Disneyland Park\n"
      ],
      "metadata": {
        "id": "J_R--0xJKU90"
      }
    },
    {
      "cell_type": "code",
      "execution_count": 2,
      "metadata": {
        "colab": {
          "base_uri": "https://localhost:8080/"
        },
        "id": "vumFBzldUvgO",
        "outputId": "2ff7dcf5-132e-4b8e-c9cf-16216aeca9e7"
      },
      "outputs": [
        {
          "output_type": "stream",
          "name": "stdout",
          "text": [
            "--2021-12-24 06:43:54--  http://setup.johnsnowlabs.com/colab.sh\n",
            "Resolving setup.johnsnowlabs.com (setup.johnsnowlabs.com)... 51.158.130.125\n",
            "Connecting to setup.johnsnowlabs.com (setup.johnsnowlabs.com)|51.158.130.125|:80... connected.\n",
            "HTTP request sent, awaiting response... 302 Found\n",
            "Location: https://setup.johnsnowlabs.com/colab.sh [following]\n",
            "--2021-12-24 06:43:56--  https://setup.johnsnowlabs.com/colab.sh\n",
            "Connecting to setup.johnsnowlabs.com (setup.johnsnowlabs.com)|51.158.130.125|:443... connected.\n",
            "HTTP request sent, awaiting response... 302 Moved Temporarily\n",
            "Location: https://raw.githubusercontent.com/JohnSnowLabs/spark-nlp/master/scripts/colab_setup.sh [following]\n",
            "--2021-12-24 06:43:57--  https://raw.githubusercontent.com/JohnSnowLabs/spark-nlp/master/scripts/colab_setup.sh\n",
            "Resolving raw.githubusercontent.com (raw.githubusercontent.com)... 185.199.108.133, 185.199.111.133, 185.199.110.133, ...\n",
            "Connecting to raw.githubusercontent.com (raw.githubusercontent.com)|185.199.108.133|:443... connected.\n",
            "HTTP request sent, awaiting response... 200 OK\n",
            "Length: 1275 (1.2K) [text/plain]\n",
            "Saving to: ‘STDOUT’\n",
            "\n",
            "-                     0%[                    ]       0  --.-KB/s               setup Colab for PySpark 3.0.3 and Spark NLP 3.3.4\n",
            "-                   100%[===================>]   1.25K  --.-KB/s    in 0s      \n",
            "\n",
            "Installing PySpark 3.0.3 and Spark NLP 3.3.4\n",
            "2021-12-24 06:43:57 (42.3 MB/s) - written to stdout [1275/1275]\n",
            "\n"
          ]
        }
      ],
      "source": [
        "#Installing pyspark, spark-nlp and findspark\n",
        "\n",
        "!wget http://setup.johnsnowlabs.com/colab.sh -O - | bash"
      ]
    },
    {
      "cell_type": "code",
      "execution_count": 3,
      "metadata": {
        "colab": {
          "base_uri": "https://localhost:8080/"
        },
        "id": "pQKBS8IGUyD1",
        "outputId": "710db6f6-9c64-480e-f7c0-98edc46979c2"
      },
      "outputs": [
        {
          "output_type": "stream",
          "name": "stdout",
          "text": [
            "--2021-12-24 06:44:01--  http://setup.johnsnowlabs.com/colab.sh\n",
            "Resolving setup.johnsnowlabs.com (setup.johnsnowlabs.com)... 51.158.130.125\n",
            "Connecting to setup.johnsnowlabs.com (setup.johnsnowlabs.com)|51.158.130.125|:80... connected.\n",
            "HTTP request sent, awaiting response... 302 Found\n",
            "Location: https://setup.johnsnowlabs.com/colab.sh [following]\n",
            "--2021-12-24 06:44:01--  https://setup.johnsnowlabs.com/colab.sh\n",
            "Connecting to setup.johnsnowlabs.com (setup.johnsnowlabs.com)|51.158.130.125|:443... connected.\n",
            "HTTP request sent, awaiting response... 302 Moved Temporarily\n",
            "Location: https://raw.githubusercontent.com/JohnSnowLabs/spark-nlp/master/scripts/colab_setup.sh [following]\n",
            "--2021-12-24 06:44:02--  https://raw.githubusercontent.com/JohnSnowLabs/spark-nlp/master/scripts/colab_setup.sh\n",
            "Resolving raw.githubusercontent.com (raw.githubusercontent.com)... 185.199.108.133, 185.199.109.133, 185.199.110.133, ...\n",
            "Connecting to raw.githubusercontent.com (raw.githubusercontent.com)|185.199.108.133|:443... connected.\n",
            "HTTP request sent, awaiting response... 200 OK\n",
            "Length: 1275 (1.2K) [text/plain]\n",
            "Saving to: ‘colab.sh’\n",
            "\n",
            "colab.sh            100%[===================>]   1.25K  --.-KB/s    in 0s      \n",
            "\n",
            "2021-12-24 06:44:02 (50.4 MB/s) - ‘colab.sh’ saved [1275/1275]\n",
            "\n",
            "#!/bin/bash\n",
            "\n",
            "#default values for pyspark, spark-nlp, and SPARK_HOME\n",
            "SPARKNLP=\"3.3.4\"\n",
            "PYSPARK=\"3.0.3\"\n",
            "\n",
            "while getopts s:p: option\n",
            "do\n",
            " case \"${option}\"\n",
            " in\n",
            " s) SPARKNLP=${OPTARG};;\n",
            " p) PYSPARK=${OPTARG};;\n",
            " esac\n",
            "done\n",
            "\n",
            "echo \"setup Colab for PySpark $PYSPARK and Spark NLP $SPARKNLP\"\n",
            "export JAVA_HOME=\"/usr/lib/jvm/java-11-openjdk-amd64\"\n",
            "\n",
            "if [[ \"$PYSPARK\" == \"3.1\"* ]]; then\n",
            "  echo \"Installing PySpark $PYSPARK and Spark NLP $SPARKNLP\"\n",
            "elif [[ \"$PYSPARK\" == \"3.0\"* ]]; then\n",
            "  echo \"Installing PySpark $PYSPARK and Spark NLP $SPARKNLP\"\n",
            "elif [[ \"$PYSPARK\" == \"2\"* ]]; then\n",
            "  echo \"Installing PySpark $PYSPARK and Spark NLP $SPARKNLP\"\n",
            "  apt-get update\n",
            "  apt-get purge -y openjdk-11* -qq > /dev/null && sudo apt-get autoremove -y -qq > /dev/null\n",
            "  apt-get install -y openjdk-8-jdk-headless -qq > /dev/null\n",
            "\n",
            "  export SPARK_HOME=$SPARKHOME\n",
            "  export JAVA_HOME=\"/usr/lib/jvm/java-8-openjdk-amd64\"\n",
            "\n",
            "  wget -q \"https://downloads.apache.org/spark/spark-2.4.8/spark-2.4.8-bin-hadoop2.7.tgz\" > /dev/null\n",
            "  tar -xvf spark-2.4.8-bin-hadoop2.8.tgz > /dev/null\n",
            "  SPARKHOME=\"/content/spark-2.4.8-bin-hadoop2.7\"\n",
            "else\n",
            "  export JAVA_HOME=\"/usr/lib/jvm/java-11-openjdk-amd64\"\n",
            "  PYSPARK=\"3.0.3\"\n",
            "fi\n",
            "\n",
            "\n",
            "# Install pyspark spark-nlp\n",
            "! pip install --upgrade -q pyspark==$PYSPARK spark-nlp==$SPARKNLP findspark\n"
          ]
        }
      ],
      "source": [
        "#To check contents of colab.sh, colab.sh will be downloaded\n",
        "\n",
        "!wget http://setup.johnsnowlabs.com/colab.sh \n",
        "\n",
        "! cat /content/colab.sh"
      ]
    },
    {
      "cell_type": "code",
      "execution_count": 4,
      "metadata": {
        "id": "GpPsYkjlVXwT"
      },
      "outputs": [],
      "source": [
        "#Calling all the necessary libraries\n",
        "import pandas as pd\n",
        "import numpy as np\n",
        "import os\n",
        "\n",
        "#Loading all the spark related libraries\n",
        "from pyspark.ml import Pipeline\n",
        "from pyspark.sql import SparkSession\n",
        "import pyspark.sql.functions as F\n",
        "from pyspark.sql.types import DoubleType, StringType,StructField,StructType\n",
        "from pyspark.sql.functions import regexp_replace\n",
        "\n",
        "#Loading all the Spark-nlp related libraries\n",
        "import sparknlp\n",
        "from sparknlp.base import *\n",
        "from sparknlp.annotator import *\n",
        "from pyspark.ml import Pipeline \n",
        "from pyspark.ml.feature import CountVectorizer,StringIndexer, RegexTokenizer,StopWordsRemover\n",
        "from pyspark.sql.functions import col, udf,regexp_replace,isnull\n",
        "from pyspark.sql.types import StringType,IntegerType\n",
        "from pyspark.ml.classification import NaiveBayes\n",
        "from pyspark.ml.evaluation import MulticlassClassificationEvaluator"
      ]
    },
    {
      "cell_type": "code",
      "execution_count": 5,
      "metadata": {
        "id": "uqKMwYAIVm4L"
      },
      "outputs": [],
      "source": [
        "#Creating a Spark session\n",
        "spark = sparknlp.start()"
      ]
    },
    {
      "cell_type": "code",
      "execution_count": 6,
      "metadata": {
        "id": "nUponO_7VuIo"
      },
      "outputs": [],
      "source": [
        "#Show multiple command outputs from a cell\n",
        "from IPython.core.interactiveshell import InteractiveShell\n",
        "InteractiveShell.ast_node_interactivity = \"all\""
      ]
    },
    {
      "cell_type": "code",
      "execution_count": 7,
      "metadata": {
        "colab": {
          "base_uri": "https://localhost:8080/"
        },
        "id": "pq6kT8lSV3rT",
        "outputId": "3a705471-7374-4420-cbbf-a7c6f0a13cfa"
      },
      "outputs": [
        {
          "output_type": "stream",
          "name": "stdout",
          "text": [
            "Mounted at /gdrive\n"
          ]
        }
      ],
      "source": [
        "#Mount gdrive to read data\n",
        "from google.colab import drive\n",
        "drive.mount('/gdrive')"
      ]
    },
    {
      "cell_type": "code",
      "execution_count": 8,
      "metadata": {
        "colab": {
          "base_uri": "https://localhost:8080/",
          "height": 206
        },
        "id": "MCqVkdV_W7sc",
        "outputId": "7d53274d-7868-43d8-9667-6ab5f1ca527b"
      },
      "outputs": [
        {
          "output_type": "execute_result",
          "data": {
            "text/html": [
              "\n",
              "  <div id=\"df-c91920aa-febb-4bb9-ae8d-d9eda181005d\">\n",
              "    <div class=\"colab-df-container\">\n",
              "      <div>\n",
              "<style scoped>\n",
              "    .dataframe tbody tr th:only-of-type {\n",
              "        vertical-align: middle;\n",
              "    }\n",
              "\n",
              "    .dataframe tbody tr th {\n",
              "        vertical-align: top;\n",
              "    }\n",
              "\n",
              "    .dataframe thead th {\n",
              "        text-align: right;\n",
              "    }\n",
              "</style>\n",
              "<table border=\"1\" class=\"dataframe\">\n",
              "  <thead>\n",
              "    <tr style=\"text-align: right;\">\n",
              "      <th></th>\n",
              "      <th>Review_ID</th>\n",
              "      <th>Rating</th>\n",
              "      <th>Year_Month</th>\n",
              "      <th>Reviewer_Location</th>\n",
              "      <th>Review_Text</th>\n",
              "      <th>Branch</th>\n",
              "    </tr>\n",
              "  </thead>\n",
              "  <tbody>\n",
              "    <tr>\n",
              "      <th>0</th>\n",
              "      <td>670772142</td>\n",
              "      <td>4</td>\n",
              "      <td>2019-4</td>\n",
              "      <td>Australia</td>\n",
              "      <td>If you've ever been to Disneyland anywhere you...</td>\n",
              "      <td>Disneyland_HongKong</td>\n",
              "    </tr>\n",
              "    <tr>\n",
              "      <th>1</th>\n",
              "      <td>670682799</td>\n",
              "      <td>4</td>\n",
              "      <td>2019-5</td>\n",
              "      <td>Philippines</td>\n",
              "      <td>Its been a while since d last time we visit HK...</td>\n",
              "      <td>Disneyland_HongKong</td>\n",
              "    </tr>\n",
              "    <tr>\n",
              "      <th>2</th>\n",
              "      <td>670623270</td>\n",
              "      <td>4</td>\n",
              "      <td>2019-4</td>\n",
              "      <td>United Arab Emirates</td>\n",
              "      <td>Thanks God it wasn   t too hot or too humid wh...</td>\n",
              "      <td>Disneyland_HongKong</td>\n",
              "    </tr>\n",
              "    <tr>\n",
              "      <th>3</th>\n",
              "      <td>670607911</td>\n",
              "      <td>4</td>\n",
              "      <td>2019-4</td>\n",
              "      <td>Australia</td>\n",
              "      <td>HK Disneyland is a great compact park. Unfortu...</td>\n",
              "      <td>Disneyland_HongKong</td>\n",
              "    </tr>\n",
              "    <tr>\n",
              "      <th>4</th>\n",
              "      <td>670607296</td>\n",
              "      <td>4</td>\n",
              "      <td>2019-4</td>\n",
              "      <td>United Kingdom</td>\n",
              "      <td>the location is not in the city, took around 1...</td>\n",
              "      <td>Disneyland_HongKong</td>\n",
              "    </tr>\n",
              "  </tbody>\n",
              "</table>\n",
              "</div>\n",
              "      <button class=\"colab-df-convert\" onclick=\"convertToInteractive('df-c91920aa-febb-4bb9-ae8d-d9eda181005d')\"\n",
              "              title=\"Convert this dataframe to an interactive table.\"\n",
              "              style=\"display:none;\">\n",
              "        \n",
              "  <svg xmlns=\"http://www.w3.org/2000/svg\" height=\"24px\"viewBox=\"0 0 24 24\"\n",
              "       width=\"24px\">\n",
              "    <path d=\"M0 0h24v24H0V0z\" fill=\"none\"/>\n",
              "    <path d=\"M18.56 5.44l.94 2.06.94-2.06 2.06-.94-2.06-.94-.94-2.06-.94 2.06-2.06.94zm-11 1L8.5 8.5l.94-2.06 2.06-.94-2.06-.94L8.5 2.5l-.94 2.06-2.06.94zm10 10l.94 2.06.94-2.06 2.06-.94-2.06-.94-.94-2.06-.94 2.06-2.06.94z\"/><path d=\"M17.41 7.96l-1.37-1.37c-.4-.4-.92-.59-1.43-.59-.52 0-1.04.2-1.43.59L10.3 9.45l-7.72 7.72c-.78.78-.78 2.05 0 2.83L4 21.41c.39.39.9.59 1.41.59.51 0 1.02-.2 1.41-.59l7.78-7.78 2.81-2.81c.8-.78.8-2.07 0-2.86zM5.41 20L4 18.59l7.72-7.72 1.47 1.35L5.41 20z\"/>\n",
              "  </svg>\n",
              "      </button>\n",
              "      \n",
              "  <style>\n",
              "    .colab-df-container {\n",
              "      display:flex;\n",
              "      flex-wrap:wrap;\n",
              "      gap: 12px;\n",
              "    }\n",
              "\n",
              "    .colab-df-convert {\n",
              "      background-color: #E8F0FE;\n",
              "      border: none;\n",
              "      border-radius: 50%;\n",
              "      cursor: pointer;\n",
              "      display: none;\n",
              "      fill: #1967D2;\n",
              "      height: 32px;\n",
              "      padding: 0 0 0 0;\n",
              "      width: 32px;\n",
              "    }\n",
              "\n",
              "    .colab-df-convert:hover {\n",
              "      background-color: #E2EBFA;\n",
              "      box-shadow: 0px 1px 2px rgba(60, 64, 67, 0.3), 0px 1px 3px 1px rgba(60, 64, 67, 0.15);\n",
              "      fill: #174EA6;\n",
              "    }\n",
              "\n",
              "    [theme=dark] .colab-df-convert {\n",
              "      background-color: #3B4455;\n",
              "      fill: #D2E3FC;\n",
              "    }\n",
              "\n",
              "    [theme=dark] .colab-df-convert:hover {\n",
              "      background-color: #434B5C;\n",
              "      box-shadow: 0px 1px 3px 1px rgba(0, 0, 0, 0.15);\n",
              "      filter: drop-shadow(0px 1px 2px rgba(0, 0, 0, 0.3));\n",
              "      fill: #FFFFFF;\n",
              "    }\n",
              "  </style>\n",
              "\n",
              "      <script>\n",
              "        const buttonEl =\n",
              "          document.querySelector('#df-c91920aa-febb-4bb9-ae8d-d9eda181005d button.colab-df-convert');\n",
              "        buttonEl.style.display =\n",
              "          google.colab.kernel.accessAllowed ? 'block' : 'none';\n",
              "\n",
              "        async function convertToInteractive(key) {\n",
              "          const element = document.querySelector('#df-c91920aa-febb-4bb9-ae8d-d9eda181005d');\n",
              "          const dataTable =\n",
              "            await google.colab.kernel.invokeFunction('convertToInteractive',\n",
              "                                                     [key], {});\n",
              "          if (!dataTable) return;\n",
              "\n",
              "          const docLinkHtml = 'Like what you see? Visit the ' +\n",
              "            '<a target=\"_blank\" href=https://colab.research.google.com/notebooks/data_table.ipynb>data table notebook</a>'\n",
              "            + ' to learn more about interactive tables.';\n",
              "          element.innerHTML = '';\n",
              "          dataTable['output_type'] = 'display_data';\n",
              "          await google.colab.output.renderOutput(dataTable, element);\n",
              "          const docLink = document.createElement('div');\n",
              "          docLink.innerHTML = docLinkHtml;\n",
              "          element.appendChild(docLink);\n",
              "        }\n",
              "      </script>\n",
              "    </div>\n",
              "  </div>\n",
              "  "
            ],
            "text/plain": [
              "   Review_ID  ...               Branch\n",
              "0  670772142  ...  Disneyland_HongKong\n",
              "1  670682799  ...  Disneyland_HongKong\n",
              "2  670623270  ...  Disneyland_HongKong\n",
              "3  670607911  ...  Disneyland_HongKong\n",
              "4  670607296  ...  Disneyland_HongKong\n",
              "\n",
              "[5 rows x 6 columns]"
            ]
          },
          "metadata": {},
          "execution_count": 8
        }
      ],
      "source": [
        "#Listing the path and reading the dataframe\n",
        "path = os.chdir(\"/gdrive/MyDrive/Functional Analytics/\")\n",
        "data_df = pd.read_csv('DisneylandReviews.csv', encoding='latin')\n",
        "data_df.head()"
      ]
    },
    {
      "cell_type": "code",
      "execution_count": 9,
      "metadata": {
        "colab": {
          "base_uri": "https://localhost:8080/"
        },
        "id": "pBHuqfT-Wm2u",
        "outputId": "18cebd19-df95-4563-ebd9-ee6d465a0b19"
      },
      "outputs": [
        {
          "output_type": "execute_result",
          "data": {
            "text/plain": [
              "(42656, 6)"
            ]
          },
          "metadata": {},
          "execution_count": 9
        }
      ],
      "source": [
        "#viewing the shape of the dataframe\n",
        "data_df.shape"
      ]
    },
    {
      "cell_type": "code",
      "execution_count": 10,
      "metadata": {
        "colab": {
          "base_uri": "https://localhost:8080/"
        },
        "id": "Vg2CAhMqWrV9",
        "outputId": "9ce6173c-9db7-41da-d26d-db58b889f434"
      },
      "outputs": [
        {
          "output_type": "execute_result",
          "data": {
            "text/plain": [
              "5    23146\n",
              "4    10775\n",
              "3     5109\n",
              "2     2127\n",
              "1     1499\n",
              "Name: Rating, dtype: int64"
            ]
          },
          "metadata": {},
          "execution_count": 10
        }
      ],
      "source": [
        "#viewing the different ratings in the dataframe\n",
        "data_df['Rating'].value_counts()"
      ]
    },
    {
      "cell_type": "markdown",
      "metadata": {
        "id": "vtsg5jNDjKAH"
      },
      "source": [
        "**BRANCHES PER YEAR**"
      ]
    },
    {
      "cell_type": "code",
      "execution_count": 11,
      "metadata": {
        "colab": {
          "base_uri": "https://localhost:8080/",
          "height": 389
        },
        "id": "Hu7gfXOSjAGS",
        "outputId": "8ee351ff-766b-4bd2-e850-a42010eed7d3"
      },
      "outputs": [
        {
          "output_type": "display_data",
          "data": {
            "image/png": "[encoded data removed]",
            "text/plain": [
              "<Figure size 720x432 with 1 Axes>"
            ]
          },
          "metadata": {
            "needs_background": "light"
          }
        }
      ],
      "source": [
        "#Plotting the number of branches per year \n",
        "import matplotlib.pyplot as plt\n",
        "import seaborn as sns\n",
        "plt.figure(figsize=(10,6))\n",
        "sns.countplot(data=data_df,x='Year_Month',hue='Branch',palette='Blues');"
      ]
    },
    {
      "cell_type": "markdown",
      "metadata": {
        "id": "qG5Ri9xdjqPE"
      },
      "source": [
        "**QUATER WISE REVIEWS AND RATINGS**"
      ]
    },
    {
      "cell_type": "code",
      "execution_count": 12,
      "metadata": {
        "colab": {
          "base_uri": "https://localhost:8080/",
          "height": 368
        },
        "id": "dX9JKZFhjqyc",
        "outputId": "95a1c5ae-531d-4aaf-df5e-271aa9483d94"
      },
      "outputs": [
        {
          "output_type": "display_data",
          "data": {
            "text/plain": [
              "<Figure size 720x432 with 0 Axes>"
            ]
          },
          "metadata": {}
        },
        {
          "output_type": "display_data",
          "data": {
            "image/png": "[encoded data removed]",
            "text/plain": [
              "<Figure size 1080x360 with 2 Axes>"
            ]
          },
          "metadata": {
            "needs_background": "light"
          }
        }
      ],
      "source": [
        "#Plotting the quater wise reviews and ratings\n",
        "plt.figure(figsize=(10,6));\n",
        "\n",
        "fig, axes = plt.subplots(1, 2, figsize=(15, 5), sharey=False);\n",
        "sns.countplot(ax=axes[0],data=data_df,x='Year_Month',hue='Rating',palette='gnuplot');\n",
        "axes[0].set_title('Quarter By Ratings');\n",
        "sns.countplot(ax=axes[1],data=data_df,x='Year_Month',palette='gist_heat');\n",
        "axes[1].set_title('Quarter per reviews');"
      ]
    },
    {
      "cell_type": "markdown",
      "metadata": {
        "id": "E3ZB7RyGjzUT"
      },
      "source": [
        "there are less reviews in the first quarter of the year"
      ]
    },
    {
      "cell_type": "markdown",
      "metadata": {
        "id": "U_Q9pWWnj0j2"
      },
      "source": [
        "**REVIEWS PER COUNTRY**"
      ]
    },
    {
      "cell_type": "code",
      "execution_count": 13,
      "metadata": {
        "colab": {
          "base_uri": "https://localhost:8080/",
          "height": 542
        },
        "id": "DntRwXJsj6fA",
        "outputId": "b8b04558-38f1-4aef-ff58-f81c802ee304"
      },
      "outputs": [
        {
          "output_type": "display_data",
          "data": {
            "text/html": [
              "<html>\n",
              "<head><meta charset=\"utf-8\" /></head>\n",
              "<body>\n",
              "    <div>\n",
              "            <script src=\"https://cdnjs.cloudflare.com/ajax/libs/mathjax/2.7.5/MathJax.js?config=TeX-AMS-MML_SVG\"></script><script type=\"text/javascript\">if (window.MathJax) {MathJax.Hub.Config({SVG: {font: \"STIX-Web\"}});}</script>\n",
              "                <script type=\"text/javascript\">window.PlotlyConfig = {MathJaxConfig: 'local'};</script>\n",
              "        <script src=\"https://cdn.plot.ly/plotly-latest.min.js\"></script>    \n",
              "            <div id=\"12a5f548-dd04-4238-b9b8-79eb68cef7f5\" class=\"plotly-graph-div\" style=\"height:525px; width:100%;\"></div>\n",
              "            <script type=\"text/javascript\">\n",
              "                \n",
              "                    window.PLOTLYENV=window.PLOTLYENV || {};\n",
              "                    \n",
              "                if (document.getElementById(\"12a5f548-dd04-4238-b9b8-79eb68cef7f5\")) {\n",
              "                    Plotly.newPlot(\n",
              "                        '12a5f548-dd04-4238-b9b8-79eb68cef7f5',\n",
              "                        [{\"coloraxis\": \"coloraxis\", \"customdata\": [[14551], [9751], [4679], [2235], [1511], [1070], [1037], [756], [588], [554], [530], [487], [350], [253], [243], [242], [223], [194], [181], [147], [145], [126], [124], [122], [118], [114], [106], [106], [105], [104], [98], [96], [87], [81], [77], [66], [64], [61], [58], [56], [55], [46], [45], [45], [41], [37], [36], [35], [35], [30], [29], [27], [27], [26], [25], [25], [25], [24], [24], [20], [19], [18], [17], [17], [16], [16], [16], [13], [13], [12], [11], [11], [11], [10], [10], [9], [9], [8], [8], [8], [8], [8], [8], [7], [7], [7], [7], [6], [6], [6], [6], [5], [5], [5], [5], [5], [5], [5], [5], [5], [4], [4], [4], [4], [4], [4], [4], [4], [4], [3], [3], [3], [3], [3], [3], [3], [3], [3], [2], [2], [2], [2], [2], [2], [2], [2], [2], [2], [2], [2], [2], [2], [2], [2], [2], [2], [2], [2], [2], [2], [2], [1], [1], [1], [1], [1], [1], [1], [1], [1], [1], [1], [1], [1], [1], [1], [1], [1], [1], [1], [1], [1]], \"geo\": \"geo\", \"hoverlabel\": {\"namelength\": 0}, \"hovertemplate\": \"Branch=%{z}<br>Reviewer_Location=%{location}\", \"locationmode\": \"country names\", \"locations\": [\"United States\", \"United Kingdom\", \"Australia\", \"Canada\", \"India\", \"Philippines\", \"Singapore\", \"New Zealand\", \"Malaysia\", \"Hong Kong\", \"Indonesia\", \"Ireland\", \"United Arab Emirates\", \"Netherlands\", \"France\", \"South Africa\", \"Thailand\", \"Germany\", \"China\", \"Spain\", \"Belgium\", \"Italy\", \"Switzerland\", \"Mexico\", \"Saudi Arabia\", \"Israel\", \"Portugal\", \"Sweden\", \"Greece\", \"Norway\", \"Brazil\", \"Romania\", \"Denmark\", \"Malta\", \"Egypt\", \"Qatar\", \"Finland\", \"Japan\", \"Lebanon\", \"Turkey\", \"Vietnam\", \"Kuwait\", \"Cyprus\", \"Russia\", \"Bahrain\", \"Taiwan\", \"South Korea\", \"Sri Lanka\", \"Macau\", \"Austria\", \"Mauritius\", \"Czechia\", \"Iran\", \"Poland\", \"Hungary\", \"Argentina\", \"Pakistan\", \"Oman\", \"Nigeria\", \"Brunei\", \"Chile\", \"Puerto Rico\", \"Bulgaria\", \"Croatia\", \"Jersey\", \"Guam\", \"Kenya\", \"Luxembourg\", \"Bangladesh\", \"Peru\", \"Colombia\", \"Serbia\", \"Estonia\", \"Costa Rica\", \"Guernsey\", \"Isle of Man\", \"Slovakia\", \"Jordan\", \"Ukraine\", \"Cambodia\", \"Gibraltar\", \"Bosnia and Herzegovina\", \"Guatemala\", \"Kazakhstan\", \"Myanmar (Burma)\", \"Trinidad and Tobago\", \"Uruguay\", \"North Macedonia\", \"Nepal\", \"Panama\", \"Albania\", \"Morocco\", \"Iceland\", \"French Polynesia\", \"Barbados\", \"Lithuania\", \"Latvia\", \"U.S. Virgin Islands\", \"Tanzania\", \"Fiji\", \"Moldova\", \"Zambia\", \"Uganda\", \"Dominican Republic\", \"Maldives\", \"Northern Mariana Islands\", \"Tunisia\", \"Seychelles\", \"Montenegro\", \"Botswana\", \"Venezuela\", \"Ethiopia\", \"Ecuador\", \"Jamaica\", \"Mongolia\", \"Mozambique\", \"Rwanda\", \"Bolivia\", \"Zimbabwe\", \"The Bahamas\", \"Vanuatu\", \"Slovenia\", \"Solomon Islands\", \"Turks and Caicos Islands\", \"Afghanistan\", \"Libya\", \"Georgia\", \"Aruba\", \"Falkland Islands (Islas Malvinas)\", \"Cook Islands\", \"Ghana\", \"Haiti\", \"Honduras\", \"Azerbaijan\", \"C\\u00f4te d'Ivoire\", \"Laos\", \"Malawi\", \"Mali\", \"Monaco\", \"Andorra\", \"Algeria\", \"Uzbekistan\", \"Armenia\", \"Antigua and Barbuda\", \"Caribbean Netherlands\", \"Cayman Islands\", \"Cuba\", \"Cura\\u00e7ao\", \"Senegal\", \"Democratic Republic of the Congo\", \"El Salvador\", \"Papua New Guinea\", \"Timor-Leste\", \"Grenada\", \"Iraq\", \"Suriname\", \"Sudan\", \"Madagascar\", \"South Sudan\", \"Namibia\", \"Nicaragua\", \"\\u00c5land Islands\"], \"name\": \"\", \"type\": \"choropleth\", \"z\": [14551, 9751, 4679, 2235, 1511, 1070, 1037, 756, 588, 554, 530, 487, 350, 253, 243, 242, 223, 194, 181, 147, 145, 126, 124, 122, 118, 114, 106, 106, 105, 104, 98, 96, 87, 81, 77, 66, 64, 61, 58, 56, 55, 46, 45, 45, 41, 37, 36, 35, 35, 30, 29, 27, 27, 26, 25, 25, 25, 24, 24, 20, 19, 18, 17, 17, 16, 16, 16, 13, 13, 12, 11, 11, 11, 10, 10, 9, 9, 8, 8, 8, 8, 8, 8, 7, 7, 7, 7, 6, 6, 6, 6, 5, 5, 5, 5, 5, 5, 5, 5, 5, 4, 4, 4, 4, 4, 4, 4, 4, 4, 3, 3, 3, 3, 3, 3, 3, 3, 3, 2, 2, 2, 2, 2, 2, 2, 2, 2, 2, 2, 2, 2, 2, 2, 2, 2, 2, 2, 2, 2, 2, 2, 1, 1, 1, 1, 1, 1, 1, 1, 1, 1, 1, 1, 1, 1, 1, 1, 1, 1, 1, 1, 1]}],\n",
              "                        {\"coloraxis\": {\"colorbar\": {\"title\": {\"text\": \"Branch\"}}, \"colorscale\": [[0.0, \"rgb(12,51,131)\"], [0.25, \"rgb(10,136,186)\"], [0.5, \"rgb(242,211,56)\"], [0.75, \"rgb(242,143,56)\"], [1.0, \"rgb(217,30,30)\"]], \"showscale\": false}, \"geo\": {\"center\": {}, \"domain\": {\"x\": [0.0, 1.0], \"y\": [0.0, 1.0]}}, \"legend\": {\"tracegroupgap\": 0}, \"template\": {\"data\": {\"bar\": [{\"error_x\": {\"color\": \"#2a3f5f\"}, \"error_y\": {\"color\": \"#2a3f5f\"}, \"marker\": {\"line\": {\"color\": \"#E5ECF6\", \"width\": 0.5}}, \"type\": \"bar\"}], \"barpolar\": [{\"marker\": {\"line\": {\"color\": \"#E5ECF6\", \"width\": 0.5}}, \"type\": \"barpolar\"}], \"carpet\": [{\"aaxis\": {\"endlinecolor\": \"#2a3f5f\", \"gridcolor\": \"white\", \"linecolor\": \"white\", \"minorgridcolor\": \"white\", \"startlinecolor\": \"#2a3f5f\"}, \"baxis\": {\"endlinecolor\": \"#2a3f5f\", \"gridcolor\": \"white\", \"linecolor\": \"white\", \"minorgridcolor\": \"white\", \"startlinecolor\": \"#2a3f5f\"}, \"type\": \"carpet\"}], \"choropleth\": [{\"colorbar\": {\"outlinewidth\": 0, \"ticks\": \"\"}, \"type\": \"choropleth\"}], \"contour\": [{\"colorbar\": {\"outlinewidth\": 0, \"ticks\": \"\"}, \"colorscale\": [[0.0, \"#0d0887\"], [0.1111111111111111, \"#46039f\"], [0.2222222222222222, \"#7201a8\"], [0.3333333333333333, \"#9c179e\"], [0.4444444444444444, \"#bd3786\"], [0.5555555555555556, \"#d8576b\"], [0.6666666666666666, \"#ed7953\"], [0.7777777777777778, \"#fb9f3a\"], [0.8888888888888888, \"#fdca26\"], [1.0, \"#f0f921\"]], \"type\": \"contour\"}], \"contourcarpet\": [{\"colorbar\": {\"outlinewidth\": 0, \"ticks\": \"\"}, \"type\": \"contourcarpet\"}], \"heatmap\": [{\"colorbar\": {\"outlinewidth\": 0, \"ticks\": \"\"}, \"colorscale\": [[0.0, \"#0d0887\"], [0.1111111111111111, \"#46039f\"], [0.2222222222222222, \"#7201a8\"], [0.3333333333333333, \"#9c179e\"], [0.4444444444444444, \"#bd3786\"], [0.5555555555555556, \"#d8576b\"], [0.6666666666666666, \"#ed7953\"], [0.7777777777777778, \"#fb9f3a\"], [0.8888888888888888, \"#fdca26\"], [1.0, \"#f0f921\"]], \"type\": \"heatmap\"}], \"heatmapgl\": [{\"colorbar\": {\"outlinewidth\": 0, \"ticks\": \"\"}, \"colorscale\": [[0.0, \"#0d0887\"], [0.1111111111111111, \"#46039f\"], [0.2222222222222222, \"#7201a8\"], [0.3333333333333333, \"#9c179e\"], [0.4444444444444444, \"#bd3786\"], [0.5555555555555556, \"#d8576b\"], [0.6666666666666666, \"#ed7953\"], [0.7777777777777778, \"#fb9f3a\"], [0.8888888888888888, \"#fdca26\"], [1.0, \"#f0f921\"]], \"type\": \"heatmapgl\"}], \"histogram\": [{\"marker\": {\"colorbar\": {\"outlinewidth\": 0, \"ticks\": \"\"}}, \"type\": \"histogram\"}], \"histogram2d\": [{\"colorbar\": {\"outlinewidth\": 0, \"ticks\": \"\"}, \"colorscale\": [[0.0, \"#0d0887\"], [0.1111111111111111, \"#46039f\"], [0.2222222222222222, \"#7201a8\"], [0.3333333333333333, \"#9c179e\"], [0.4444444444444444, \"#bd3786\"], [0.5555555555555556, \"#d8576b\"], [0.6666666666666666, \"#ed7953\"], [0.7777777777777778, \"#fb9f3a\"], [0.8888888888888888, \"#fdca26\"], [1.0, \"#f0f921\"]], \"type\": \"histogram2d\"}], \"histogram2dcontour\": [{\"colorbar\": {\"outlinewidth\": 0, \"ticks\": \"\"}, \"colorscale\": [[0.0, \"#0d0887\"], [0.1111111111111111, \"#46039f\"], [0.2222222222222222, \"#7201a8\"], [0.3333333333333333, \"#9c179e\"], [0.4444444444444444, \"#bd3786\"], [0.5555555555555556, \"#d8576b\"], [0.6666666666666666, \"#ed7953\"], [0.7777777777777778, \"#fb9f3a\"], [0.8888888888888888, \"#fdca26\"], [1.0, \"#f0f921\"]], \"type\": \"histogram2dcontour\"}], \"mesh3d\": [{\"colorbar\": {\"outlinewidth\": 0, \"ticks\": \"\"}, \"type\": \"mesh3d\"}], \"parcoords\": [{\"line\": {\"colorbar\": {\"outlinewidth\": 0, \"ticks\": \"\"}}, \"type\": \"parcoords\"}], \"pie\": [{\"automargin\": true, \"type\": \"pie\"}], \"scatter\": [{\"marker\": {\"colorbar\": {\"outlinewidth\": 0, \"ticks\": \"\"}}, \"type\": \"scatter\"}], \"scatter3d\": [{\"line\": {\"colorbar\": {\"outlinewidth\": 0, \"ticks\": \"\"}}, \"marker\": {\"colorbar\": {\"outlinewidth\": 0, \"ticks\": \"\"}}, \"type\": \"scatter3d\"}], \"scattercarpet\": [{\"marker\": {\"colorbar\": {\"outlinewidth\": 0, \"ticks\": \"\"}}, \"type\": \"scattercarpet\"}], \"scattergeo\": [{\"marker\": {\"colorbar\": {\"outlinewidth\": 0, \"ticks\": \"\"}}, \"type\": \"scattergeo\"}], \"scattergl\": [{\"marker\": {\"colorbar\": {\"outlinewidth\": 0, \"ticks\": \"\"}}, \"type\": \"scattergl\"}], \"scattermapbox\": [{\"marker\": {\"colorbar\": {\"outlinewidth\": 0, \"ticks\": \"\"}}, \"type\": \"scattermapbox\"}], \"scatterpolar\": [{\"marker\": {\"colorbar\": {\"outlinewidth\": 0, \"ticks\": \"\"}}, \"type\": \"scatterpolar\"}], \"scatterpolargl\": [{\"marker\": {\"colorbar\": {\"outlinewidth\": 0, \"ticks\": \"\"}}, \"type\": \"scatterpolargl\"}], \"scatterternary\": [{\"marker\": {\"colorbar\": {\"outlinewidth\": 0, \"ticks\": \"\"}}, \"type\": \"scatterternary\"}], \"surface\": [{\"colorbar\": {\"outlinewidth\": 0, \"ticks\": \"\"}, \"colorscale\": [[0.0, \"#0d0887\"], [0.1111111111111111, \"#46039f\"], [0.2222222222222222, \"#7201a8\"], [0.3333333333333333, \"#9c179e\"], [0.4444444444444444, \"#bd3786\"], [0.5555555555555556, \"#d8576b\"], [0.6666666666666666, \"#ed7953\"], [0.7777777777777778, \"#fb9f3a\"], [0.8888888888888888, \"#fdca26\"], [1.0, \"#f0f921\"]], \"type\": \"surface\"}], \"table\": [{\"cells\": {\"fill\": {\"color\": \"#EBF0F8\"}, \"line\": {\"color\": \"white\"}}, \"header\": {\"fill\": {\"color\": \"#C8D4E3\"}, \"line\": {\"color\": \"white\"}}, \"type\": \"table\"}]}, \"layout\": {\"annotationdefaults\": {\"arrowcolor\": \"#2a3f5f\", \"arrowhead\": 0, \"arrowwidth\": 1}, \"coloraxis\": {\"colorbar\": {\"outlinewidth\": 0, \"ticks\": \"\"}}, \"colorscale\": {\"diverging\": [[0, \"#8e0152\"], [0.1, \"#c51b7d\"], [0.2, \"#de77ae\"], [0.3, \"#f1b6da\"], [0.4, \"#fde0ef\"], [0.5, \"#f7f7f7\"], [0.6, \"#e6f5d0\"], [0.7, \"#b8e186\"], [0.8, \"#7fbc41\"], [0.9, \"#4d9221\"], [1, \"#276419\"]], \"sequential\": [[0.0, \"#0d0887\"], [0.1111111111111111, \"#46039f\"], [0.2222222222222222, \"#7201a8\"], [0.3333333333333333, \"#9c179e\"], [0.4444444444444444, \"#bd3786\"], [0.5555555555555556, \"#d8576b\"], [0.6666666666666666, \"#ed7953\"], [0.7777777777777778, \"#fb9f3a\"], [0.8888888888888888, \"#fdca26\"], [1.0, \"#f0f921\"]], \"sequentialminus\": [[0.0, \"#0d0887\"], [0.1111111111111111, \"#46039f\"], [0.2222222222222222, \"#7201a8\"], [0.3333333333333333, \"#9c179e\"], [0.4444444444444444, \"#bd3786\"], [0.5555555555555556, \"#d8576b\"], [0.6666666666666666, \"#ed7953\"], [0.7777777777777778, \"#fb9f3a\"], [0.8888888888888888, \"#fdca26\"], [1.0, \"#f0f921\"]]}, \"colorway\": [\"#636efa\", \"#EF553B\", \"#00cc96\", \"#ab63fa\", \"#FFA15A\", \"#19d3f3\", \"#FF6692\", \"#B6E880\", \"#FF97FF\", \"#FECB52\"], \"font\": {\"color\": \"#2a3f5f\"}, \"geo\": {\"bgcolor\": \"white\", \"lakecolor\": \"white\", \"landcolor\": \"#E5ECF6\", \"showlakes\": true, \"showland\": true, \"subunitcolor\": \"white\"}, \"hoverlabel\": {\"align\": \"left\"}, \"hovermode\": \"closest\", \"mapbox\": {\"style\": \"light\"}, \"paper_bgcolor\": \"white\", \"plot_bgcolor\": \"#E5ECF6\", \"polar\": {\"angularaxis\": {\"gridcolor\": \"white\", \"linecolor\": \"white\", \"ticks\": \"\"}, \"bgcolor\": \"#E5ECF6\", \"radialaxis\": {\"gridcolor\": \"white\", \"linecolor\": \"white\", \"ticks\": \"\"}}, \"scene\": {\"xaxis\": {\"backgroundcolor\": \"#E5ECF6\", \"gridcolor\": \"white\", \"gridwidth\": 2, \"linecolor\": \"white\", \"showbackground\": true, \"ticks\": \"\", \"zerolinecolor\": \"white\"}, \"yaxis\": {\"backgroundcolor\": \"#E5ECF6\", \"gridcolor\": \"white\", \"gridwidth\": 2, \"linecolor\": \"white\", \"showbackground\": true, \"ticks\": \"\", \"zerolinecolor\": \"white\"}, \"zaxis\": {\"backgroundcolor\": \"#E5ECF6\", \"gridcolor\": \"white\", \"gridwidth\": 2, \"linecolor\": \"white\", \"showbackground\": true, \"ticks\": \"\", \"zerolinecolor\": \"white\"}}, \"shapedefaults\": {\"line\": {\"color\": \"#2a3f5f\"}}, \"ternary\": {\"aaxis\": {\"gridcolor\": \"white\", \"linecolor\": \"white\", \"ticks\": \"\"}, \"baxis\": {\"gridcolor\": \"white\", \"linecolor\": \"white\", \"ticks\": \"\"}, \"bgcolor\": \"#E5ECF6\", \"caxis\": {\"gridcolor\": \"white\", \"linecolor\": \"white\", \"ticks\": \"\"}}, \"title\": {\"x\": 0.05}, \"xaxis\": {\"automargin\": true, \"gridcolor\": \"white\", \"linecolor\": \"white\", \"ticks\": \"\", \"title\": {\"standoff\": 15}, \"zerolinecolor\": \"white\", \"zerolinewidth\": 2}, \"yaxis\": {\"automargin\": true, \"gridcolor\": \"white\", \"linecolor\": \"white\", \"ticks\": \"\", \"title\": {\"standoff\": 15}, \"zerolinecolor\": \"white\", \"zerolinewidth\": 2}}}, \"title\": {\"text\": \"Country - Reviews\"}},\n",
              "                        {\"responsive\": true}\n",
              "                    ).then(function(){\n",
              "                            \n",
              "var gd = document.getElementById('12a5f548-dd04-4238-b9b8-79eb68cef7f5');\n",
              "var x = new MutationObserver(function (mutations, observer) {{\n",
              "        var display = window.getComputedStyle(gd).display;\n",
              "        if (!display || display === 'none') {{\n",
              "            console.log([gd, 'removed!']);\n",
              "            Plotly.purge(gd);\n",
              "            observer.disconnect();\n",
              "        }}\n",
              "}});\n",
              "\n",
              "// Listen for the removal of the full notebook cells\n",
              "var notebookContainer = gd.closest('#notebook-container');\n",
              "if (notebookContainer) {{\n",
              "    x.observe(notebookContainer, {childList: true});\n",
              "}}\n",
              "\n",
              "// Listen for the clearing of the current output cell\n",
              "var outputEl = gd.closest('.output');\n",
              "if (outputEl) {{\n",
              "    x.observe(outputEl, {childList: true});\n",
              "}}\n",
              "\n",
              "                        })\n",
              "                };\n",
              "                \n",
              "            </script>\n",
              "        </div>\n",
              "</body>\n",
              "</html>"
            ]
          },
          "metadata": {}
        }
      ],
      "source": [
        "#plotting the reviews recieved by different users per country\n",
        "import matplotlib.pyplot as plt\n",
        "plt.style.use('ggplot')\n",
        "import seaborn as sns\n",
        "import plotly.express as px\n",
        "fig_df=data_df.groupby('Reviewer_Location',as_index=False).agg({'Branch':'count'}).sort_values('Branch',ascending=False)\n",
        "fig = px.choropleth(fig_df, \n",
        "                    locations='Reviewer_Location', locationmode='country names',\n",
        "                    color='Branch',\n",
        "                    color_continuous_scale=\"portland\", hover_data=['Branch'],\n",
        "                    title='Country - Reviews')\n",
        "fig.update(layout_coloraxis_showscale=False)\n",
        "fig.show();"
      ]
    },
    {
      "cell_type": "markdown",
      "metadata": {
        "id": "pnf6FQM-qrJW"
      },
      "source": [
        "RATES -BRANCH"
      ]
    },
    {
      "cell_type": "code",
      "execution_count": 14,
      "metadata": {
        "colab": {
          "base_uri": "https://localhost:8080/",
          "height": 338
        },
        "id": "v2Lef5G6qvVQ",
        "outputId": "070d58ba-1945-493b-b2fe-582f16dd50ce"
      },
      "outputs": [
        {
          "output_type": "display_data",
          "data": {
            "image/png": "[encoded data removed]",
            "text/plain": [
              "<Figure size 720x360 with 1 Axes>"
            ]
          },
          "metadata": {}
        }
      ],
      "source": [
        "#plotting boxplot for different branches of disneyland\n",
        "plt.figure(figsize=(10,5))\n",
        "sns.boxplot(x=\"Branch\", y=\"Rating\", data=data_df);"
      ]
    },
    {
      "cell_type": "code",
      "execution_count": 15,
      "metadata": {
        "id": "sjV-B6SdXYWv"
      },
      "outputs": [],
      "source": [
        "#Transform pandas to spark dataframe:\n",
        "spark_df = data_df[['Review_Text','Rating']].copy()\n",
        "cor_data =spark.createDataFrame(spark_df)"
      ]
    },
    {
      "cell_type": "code",
      "execution_count": 16,
      "metadata": {
        "colab": {
          "base_uri": "https://localhost:8080/"
        },
        "id": "_UanfngGXqm0",
        "outputId": "b09c1f6c-aba6-462c-a38d-e84ca9896a82"
      },
      "outputs": [
        {
          "output_type": "stream",
          "name": "stdout",
          "text": [
            "+----------------------------------------------------------------------------------------------------------------------------------------------------------------------------------------------------------------------------------------------------------------------------------------------------------------------------------------------------------------------------------------------------------------------------------------------------------------------------------------------------------------------------------------------------------------------------------------------------------------------------------------------------------------------------------------------------------------------------------------------------------------------------------------------------------------------------------------------------------------------------------------------------------------------------------------------------------------------------------------------------------+------+\n",
            "|Review_Text                                                                                                                                                                                                                                                                                                                                                                                                                                                                                                                                                                                                                                                                                                                                                                                                                                                                                                                                                                                               |Rating|\n",
            "+----------------------------------------------------------------------------------------------------------------------------------------------------------------------------------------------------------------------------------------------------------------------------------------------------------------------------------------------------------------------------------------------------------------------------------------------------------------------------------------------------------------------------------------------------------------------------------------------------------------------------------------------------------------------------------------------------------------------------------------------------------------------------------------------------------------------------------------------------------------------------------------------------------------------------------------------------------------------------------------------------------+------+\n",
            "|If you've ever been to Disneyland anywhere you'll find Disneyland Hong Kong very similar in the layout when you walk into main street! It has a very familiar feel. One of the rides  its a Small World  is absolutely fabulous and worth doing. The day we visited was fairly hot and relatively busy but the queues moved fairly well.                                                                                                                                                                                                                                                                                                                                                                                                                                                                                                                                                                                                                                                                  |4     |\n",
            "|Its been a while since d last time we visit HK Disneyland .. Yet, this time we only stay in Tomorrowland .. AKA Marvel land!Now they have Iron Man Experience n d Newly open Ant Man n d Wasp!!Ironman .. Great feature n so Exciting, especially d whole scenery of HK (HK central area to Kowloon)!Antman .. Changed by previous Buzz lightyear! More or less d same, but I'm expecting to have something most!!However, my boys like it!!Space Mountain .. Turns into Star Wars!! This 1 is Great!!!For cast members (staffs) .. Felt bit MINUS point from before!!! Just dun feel like its a Disney brand!! Seems more local like Ocean Park or even worst!!They got no SMILING face, but just wanna u to enter n attraction n leave!!Hello this is supposed to be Happiest Place on Earth brand!! But, just really Dont feel it!!Bakery in Main Street now have more attractive delicacies n Disney theme sweets .. These are Good Points!!Last, they also have Starbucks now inside the theme park!!|4     |\n",
            "|Thanks God it wasn   t too hot or too humid when I was visiting the park   otherwise it would be a big issue (there is not a lot of shade).I have arrived around 10:30am and left at 6pm. Unfortunately I didn   t last until evening parade, but 8.5 hours was too much for me.There is plenty to do and everyone will find something interesting for themselves to enjoy.It wasn   t extremely busy and the longest time I had to queue for certain attractions was 45 minutes (which is really not that bad).Although I had an amazing time, I felt a bit underwhelmed with choice of rides and attractions. The park itself is quite small (I was really expecting something grand   even the main castle which was closed by the way was quite small).The food options are good, few coffee shops (including Starbucks) and plenty of gift shops. There was no issue with toilets as they are everywhere.All together it was a great day out and I really enjoyed it.                                |4     |\n",
            "|HK Disneyland is a great compact park. Unfortunately there is quite a bit of maintenance work going on at present so a number of areas are closed off (including the famous castle) If you go midweek, it is not too crowded and certainly no where near as bus as LA Disneyland. We did notice on this visit that prices for food, drinks etc have really gone through the roof so be prepared to pay top dollar for snacks (and avoid the souvenir shops if you can) Regardless, kids will love it.                                                                                                                                                                                                                                                                                                                                                                                                                                                                                                     |4     |\n",
            "|the location is not in the city, took around 1 hour from Kowlon, my kids like disneyland so much, everything is fine.   but its really crowded and hot in Hong Kong                                                                                                                                                                                                                                                                                                                                                                                                                                                                                                                                                                                                                                                                                                                                                                                                                                       |4     |\n",
            "|Have been to Disney World, Disneyland Anaheim and Tokyo Disneyland but I feel that Disneyland Hong Kong is really too small to be called a Disneyland. It has way too few rides and attractions. Souvenirs, food and even entrance tickets are slightly more expensive than other Disneyland as well. Basically, this park is good only for small children and people who has never been to Disney. The food choices were acceptable, mostly fast food, and not too expensive. Bottled water, however, was VERY expensive but they do have water fountains around for you to refill your water bottles. The parade was pretty good. It was crowded not a problem but what was the problem was the people were just so rude, the pushing and shoving cutting in lines for the rides, gift shops, food stands was just to much to take. forget trying to see one of the shows its a free for all for seats, i don't see how Disney can let this happen, it was by far the worst managed Disney property.    |3     |\n",
            "|Great place! Your day will go by and you won't even know it. Obviously went there for my daughter and she absolutely loved it! Too bad the parade got canceled though.                                                                                                                                                                                                                                                                                                                                                                                                                                                                                                                                                                                                                                                                                                                                                                                                                                    |5     |\n",
            "|Think of it as an intro to Disney magic for the little ones. Almost all of the attractions can be completed in 1.5days.One drawback was the timing. For example, Disney's Storybook Theatre is closed Wed Thu for private events. Some restaurants close mid week Tue Thur as well. So best not to plan your visit during mid week.The biggest disappointment is the food at the Park. Even Maxim's is so so only. The only decent Restaurant is Main Street Corner Cafe and the Main Street Bakery. And do be prepared for the typical abrupt HongKong style service from the serving staff.                                                                                                                                                                                                                                                                                                                                                                                                             |3     |\n",
            "|Feel so let down with this place,the Disneyland train was fantastic until you get past the station,bad signage, terrible staff who just did not want to be there ,it was rainning and rides were not working could not find a map of place, over priced fun park. Disney characters only 2 seen under a cabana having photos with visitors queuing up in the rain. Dont waste your money. Walt Disney would be horrified, not enough eating places for the amount of people or rest rooms. Seems they are building something but who knows what. No atmosphere of fun and fantasy.                                                                                                                                                                                                                                                                                                                                                                                                                        |2     |\n",
            "|I can go on talking about Disneyland. Whatever I say about it, is less. Disneyland is all about your childhood dreams come true. Starting from the Entrance, the environment, popcorn, the shows, everything. Even the MTR Trains and the station is specially designed. In my opinion one should by a Two Day Ticket to explore it well if you have time. Else few of the attractions may remain incomplete in one day. An online Two Day Ticket can save around HKD 100 in comparison to an on spot ticket.  Must NOT Miss  attractions include the Jungle River Cruise, Micky's Phillhar Magic (a 4D Show), The Lion King ShowIt is better to have some home work regarding the Show Timings so that you can maximise the number of shows you can cover. It is better to avoid Sundays or the public holidays to avoid rush.                                                                                                                                                                           |5     |\n",
            "|Disneyland never cease to amaze me! I've been to Disneyland florida and I thought I have exhausted the kid in me but nope! I still had so much fun in disneyland hong kong. 2 DL off my bucketlist and more to come!                                                                                                                                                                                                                                                                                                                                                                                                                                                                                                                                                                                                                                                                                                                                                                                      |5     |\n",
            "|We spent the day here with our grown kids and I have to admit we had a great time. It seems the kids never tire of Disney. There aren   t as many rides as the states Disney parks but they have some great ones no less. Do the haunted house, catch the lion king show, space mountain, and the iron man experience to list a few. They have lots of shops that you have to spend some money in of course. The kids will love the day!                                                                                                                                                                                                                                                                                                                                                                                                                                                                                                                                                                  |5     |\n",
            "|We spend two days, the second day went early then went straight to the back of the park, no lineups for so children got to go on many rides, some twice in a row. This Disneyland is very suitable for young children ours were 7,6,5,4,3 and 1 so most of them could go on all the rides, it was disappointing the castle was closed no nightly fireworks. Would not like to go in the hot season.                                                                                                                                                                                                                                                                                                                                                                                                                                                                                                                                                                                                       |4     |\n",
            "|It was indeed the happiest place on earth! My family had really fun and it made my daughter's birthday a memorable one!                                                                                                                                                                                                                                                                                                                                                                                                                                                                                                                                                                                                                                                                                                                                                                                                                                                                                   |5     |\n",
            "|This place is HUGE! Definately need more than one day. We had 3 children aged 11, 9 & 6 and they loved it. A great variety of rides and attractions for all ages. Food options were fantastic with 3D models of what you were ordering. Staff were fantastic, very helpful. An awesome family experience.                                                                                                                                                                                                                                                                                                                                                                                                                                                                                                                                                                                                                                                                                                 |5     |\n",
            "|We brought tickets before we left and got 2 days for less than the price of 1. After visiting would advise everyone to look for an online deal not worth the walk up price. Castle was closed due to that area being refurbished and altered, weekday aprox no more than a 30 min wait for rides with most being less than that would not recommend weekends or holidays. As has been said like all Disney parks and theme parks in general food and drink is expensive .This is a small park and can easily be done in 1 day                                                                                                                                                                                                                                                                                                                                                                                                                                                                             |3     |\n",
            "|Its huge , not enough to visit in one day. We did with 2 days pass ... all the scenes were amazing ... you were like in movies, fairytales, etc. At 8 pm, we have enjoyed lots with the character show on the street. Must Visit !!!                                                                                                                                                                                                                                                                                                                                                                                                                                                                                                                                                                                                                                                                                                                                                                      |4     |\n",
            "|Around   60 per person and if you want to eat or drink at any point it was cost you a small fortune. If you go on a week day like we did I assume like us you will wait around half an hour per ride. At the time we went the Disney castle was under construction.. it doesn't look like it will be finished soon. Fast track is free for everyone but single rider was a lot faster. An average day at an expensive place.                                                                                                                                                                                                                                                                                                                                                                                                                                                                                                                                                                              |3     |\n",
            "|It   s Disneyland! It just does not need reviewing!  Place speaks for itself.  However smaller than I expected.  Great experience                                                                                                                                                                                                                                                                                                                                                                                                                                                                                                                                                                                                                                                                                                                                                                                                                                                                         |4     |\n",
            "|There is nothing more to say except that you become a child once again as you step inside Disneyland in HK!  Easy to go and come out with dedicated trams and subway stations.  Wait for the parade at sunset it is definitely worth waiting!                                                                                                                                                                                                                                                                                                                                                                                                                                                                                                                                                                                                                                                                                                                                                             |5     |\n",
            "+----------------------------------------------------------------------------------------------------------------------------------------------------------------------------------------------------------------------------------------------------------------------------------------------------------------------------------------------------------------------------------------------------------------------------------------------------------------------------------------------------------------------------------------------------------------------------------------------------------------------------------------------------------------------------------------------------------------------------------------------------------------------------------------------------------------------------------------------------------------------------------------------------------------------------------------------------------------------------------------------------------+------+\n",
            "only showing top 20 rows\n",
            "\n"
          ]
        },
        {
          "output_type": "execute_result",
          "data": {
            "text/plain": [
              "42656"
            ]
          },
          "metadata": {},
          "execution_count": 16
        }
      ],
      "source": [
        "#Examining it\n",
        "cor_data.show(truncate=False)\n",
        "cor_data.count()      "
      ]
    },
    {
      "cell_type": "code",
      "execution_count": 17,
      "metadata": {
        "id": "rchyQtGnXxTL"
      },
      "outputs": [],
      "source": [
        "#Read data directly in spark a normal manner:\n",
        "pathToFoler = \"/gdrive/MyDrive/Functional Analytics/\"\n",
        "fileName = \"DisneylandReviews.csv\"\n",
        "data = spark.read.csv(\n",
        "                      path = pathToFoler + fileName,\n",
        "                      inferSchema=True,\n",
        "                      header=True\n",
        "                      )"
      ]
    },
    {
      "cell_type": "code",
      "execution_count": 18,
      "metadata": {
        "colab": {
          "base_uri": "https://localhost:8080/"
        },
        "id": "F_CCXuBYaz6C",
        "outputId": "fb183b15-9cc3-4c39-9490-35df1b23ab37"
      },
      "outputs": [
        {
          "output_type": "stream",
          "name": "stdout",
          "text": [
            "+---------+------+----------+--------------------+--------------------+-------------------+\n",
            "|Review_ID|Rating|Year_Month|   Reviewer_Location|         Review_Text|             Branch|\n",
            "+---------+------+----------+--------------------+--------------------+-------------------+\n",
            "|670772142|     4|    2019-4|           Australia|If you've ever be...|Disneyland_HongKong|\n",
            "|670682799|     4|    2019-5|         Philippines|Its been a while ...|Disneyland_HongKong|\n",
            "|670623270|     4|    2019-4|United Arab Emirates|Thanks God it was...|Disneyland_HongKong|\n",
            "|670607911|     4|    2019-4|           Australia|HK Disneyland is ...|Disneyland_HongKong|\n",
            "|670607296|     4|    2019-4|      United Kingdom|the location is n...|Disneyland_HongKong|\n",
            "|670591897|     3|    2019-4|           Singapore|Have been to Disn...|Disneyland_HongKong|\n",
            "|670585330|     5|    2019-4|               India|Great place! Your...|Disneyland_HongKong|\n",
            "|670574142|     3|    2019-3|            Malaysia|Think of it as an...|Disneyland_HongKong|\n",
            "|670571027|     2|    2019-4|           Australia|Feel so let down ...|Disneyland_HongKong|\n",
            "|670570869|     5|    2019-3|               India|I can go on talki...|Disneyland_HongKong|\n",
            "|670443403|     5|    2019-4|       United States|Disneyland never ...|Disneyland_HongKong|\n",
            "|670435886|     5|    2019-4|              Canada|We spent the day ...|Disneyland_HongKong|\n",
            "|670376905|     4|    2019-4|           Australia|We spend two days...|Disneyland_HongKong|\n",
            "|670324965|     5|    2019-4|         Philippines|It was indeed the...|Disneyland_HongKong|\n",
            "|670274554|     5|    2018-9|           Australia|This place is HUG...|Disneyland_HongKong|\n",
            "|670205135|     3|    2019-1|      United Kingdom|We brought ticket...|Disneyland_HongKong|\n",
            "|670199487|     4|    2019-4|     Myanmar (Burma)|Its huge , not en...|Disneyland_HongKong|\n",
            "|670129921|     3|    2019-4|      United Kingdom|Around   60 per p...|Disneyland_HongKong|\n",
            "|670099231|     4|    2019-4|           Australia|It   s Disneyland...|Disneyland_HongKong|\n",
            "|670033848|     5|   2018-11|           Hong Kong|There is nothing ...|Disneyland_HongKong|\n",
            "+---------+------+----------+--------------------+--------------------+-------------------+\n",
            "only showing top 20 rows\n",
            "\n"
          ]
        }
      ],
      "source": [
        "#viewing the spark dataframe\n",
        "data.show()"
      ]
    },
    {
      "cell_type": "code",
      "execution_count": 19,
      "metadata": {
        "colab": {
          "base_uri": "https://localhost:8080/"
        },
        "id": "a__7ZA39d9jl",
        "outputId": "76e1f7b3-39a0-4309-8384-53936d79e667"
      },
      "outputs": [
        {
          "output_type": "execute_result",
          "data": {
            "text/plain": [
              "42656"
            ]
          },
          "metadata": {},
          "execution_count": 19
        }
      ],
      "source": [
        "#viewing the number of entries in spark dataframe\n",
        "data.count()    "
      ]
    },
    {
      "cell_type": "code",
      "execution_count": 20,
      "metadata": {
        "id": "twLGrNDte0KP"
      },
      "outputs": [],
      "source": [
        "schema = StructType([ \\\n",
        "                     StructField(\"Review_ID\",StringType(),True), \\\n",
        "                     StructField(\"Rating\",StringType(),True), \\\n",
        "                     StructField(\"Year_Month\",StringType(),True), \\\n",
        "                     StructField(\"Reviewer_Location\", StringType(), True), \\\n",
        "                     StructField(\"Review_Text\", StringType(), True), \\\n",
        "                     StructField(\"Branch\", StringType(), True) \\\n",
        "  ])"
      ]
    },
    {
      "cell_type": "code",
      "execution_count": 21,
      "metadata": {
        "id": "q75f3L7BfoOm"
      },
      "outputs": [],
      "source": [
        "trainDataset = spark.read  \\\n",
        "                 .option(\"quote\", \"\\\"\") \\\n",
        "                 .option('escape', \"\\\"\") \\\n",
        "                 .option(\"multiLine\", \"true\")  \\\n",
        "                 .option(\"schema\" , schema)  \\\n",
        "                 .option(\"header\", \"true\") \\\n",
        "                 .csv(pathToFoler + fileName)"
      ]
    },
    {
      "cell_type": "code",
      "execution_count": 22,
      "metadata": {
        "colab": {
          "base_uri": "https://localhost:8080/"
        },
        "id": "dFrOWBV4fr5-",
        "outputId": "98f817f0-1e09-4f06-dfb7-c66099dd045f"
      },
      "outputs": [
        {
          "output_type": "stream",
          "name": "stdout",
          "text": [
            "+---------+------+----------+--------------------+--------------------+-------------------+\n",
            "|Review_ID|Rating|Year_Month|   Reviewer_Location|         Review_Text|             Branch|\n",
            "+---------+------+----------+--------------------+--------------------+-------------------+\n",
            "|670772142|     4|    2019-4|           Australia|If you've ever be...|Disneyland_HongKong|\n",
            "|670682799|     4|    2019-5|         Philippines|Its been a while ...|Disneyland_HongKong|\n",
            "|670623270|     4|    2019-4|United Arab Emirates|Thanks God it was...|Disneyland_HongKong|\n",
            "|670607911|     4|    2019-4|           Australia|HK Disneyland is ...|Disneyland_HongKong|\n",
            "|670607296|     4|    2019-4|      United Kingdom|the location is n...|Disneyland_HongKong|\n",
            "|670591897|     3|    2019-4|           Singapore|Have been to Disn...|Disneyland_HongKong|\n",
            "|670585330|     5|    2019-4|               India|Great place! Your...|Disneyland_HongKong|\n",
            "|670574142|     3|    2019-3|            Malaysia|Think of it as an...|Disneyland_HongKong|\n",
            "|670571027|     2|    2019-4|           Australia|Feel so let down ...|Disneyland_HongKong|\n",
            "|670570869|     5|    2019-3|               India|I can go on talki...|Disneyland_HongKong|\n",
            "|670443403|     5|    2019-4|       United States|Disneyland never ...|Disneyland_HongKong|\n",
            "|670435886|     5|    2019-4|              Canada|We spent the day ...|Disneyland_HongKong|\n",
            "|670376905|     4|    2019-4|           Australia|We spend two days...|Disneyland_HongKong|\n",
            "|670324965|     5|    2019-4|         Philippines|It was indeed the...|Disneyland_HongKong|\n",
            "|670274554|     5|    2018-9|           Australia|This place is HUG...|Disneyland_HongKong|\n",
            "|670205135|     3|    2019-1|      United Kingdom|We brought ticket...|Disneyland_HongKong|\n",
            "|670199487|     4|    2019-4|     Myanmar (Burma)|Its huge , not en...|Disneyland_HongKong|\n",
            "|670129921|     3|    2019-4|      United Kingdom|Around   60 per p...|Disneyland_HongKong|\n",
            "|670099231|     4|    2019-4|           Australia|It   s Disneyland...|Disneyland_HongKong|\n",
            "|670033848|     5|   2018-11|           Hong Kong|There is nothing ...|Disneyland_HongKong|\n",
            "+---------+------+----------+--------------------+--------------------+-------------------+\n",
            "only showing top 20 rows\n",
            "\n"
          ]
        },
        {
          "output_type": "execute_result",
          "data": {
            "text/plain": [
              "42656"
            ]
          },
          "metadata": {},
          "execution_count": 22
        }
      ],
      "source": [
        "trainDataset.show()\n",
        "trainDataset.count() "
      ]
    },
    {
      "cell_type": "code",
      "execution_count": 23,
      "metadata": {
        "colab": {
          "base_uri": "https://localhost:8080/"
        },
        "id": "zqUQ9cHRfupC",
        "outputId": "b122ae95-27a5-4cc3-acba-b54a806b4436"
      },
      "outputs": [
        {
          "output_type": "stream",
          "name": "stdout",
          "text": [
            "+------+-----+\n",
            "|Rating|count|\n",
            "+------+-----+\n",
            "|     5|23146|\n",
            "|     4|10775|\n",
            "|     3| 5109|\n",
            "|     2| 2127|\n",
            "|     1| 1499|\n",
            "+------+-----+\n",
            "\n"
          ]
        }
      ],
      "source": [
        "from pyspark.sql.functions import col\n",
        "#grouping the ratings column and arranging in descending order \n",
        "trainDataset.groupBy(\"Rating\") \\\n",
        "    .count() \\\n",
        "    .orderBy(col(\"count\").desc()) \\\n",
        "    .show()"
      ]
    },
    {
      "cell_type": "code",
      "execution_count": 24,
      "metadata": {
        "id": "auRCzP3Pg94g"
      },
      "outputs": [],
      "source": [
        "#replacing rating value of 1 and 2 with negative, 3 with neutral and 4 and 5 with positive\n",
        "trainDataset = trainDataset.replace('1', 'Negative')\n",
        "trainDataset = trainDataset.replace('2', 'Negative')\n",
        "trainDataset = trainDataset.replace('3', 'Neutral')\n",
        "trainDataset = trainDataset.replace('4', 'Positive')\n",
        "trainDataset = trainDataset.replace('5', 'Positive')"
      ]
    },
    {
      "cell_type": "code",
      "execution_count": 25,
      "metadata": {
        "colab": {
          "base_uri": "https://localhost:8080/"
        },
        "id": "8yd4N7sQhOe_",
        "outputId": "37ab0d8a-f4c4-48ca-8ef1-9d9994b3c060"
      },
      "outputs": [
        {
          "output_type": "stream",
          "name": "stdout",
          "text": [
            "+--------+-----+\n",
            "|  Rating|count|\n",
            "+--------+-----+\n",
            "|Positive|33921|\n",
            "| Neutral| 5109|\n",
            "|Negative| 3626|\n",
            "+--------+-----+\n",
            "\n"
          ]
        }
      ],
      "source": [
        "#grouping the rating column\n",
        "trainDataset.groupBy(\"Rating\") \\\n",
        "    .count() \\\n",
        "    .orderBy(col(\"count\").desc()) \\\n",
        "    .show()"
      ]
    },
    {
      "cell_type": "code",
      "execution_count": 26,
      "metadata": {
        "colab": {
          "base_uri": "https://localhost:8080/"
        },
        "id": "lwiMgJPLf207",
        "outputId": "99a43483-f7b9-4352-9e78-7279ad6757f8"
      },
      "outputs": [
        {
          "output_type": "stream",
          "name": "stdout",
          "text": [
            "Training Dataset Count: 34179\n",
            "Test Dataset Count: 8477\n"
          ]
        }
      ],
      "source": [
        "#splitting the dataset into training and test data \n",
        "(trainingData, testData) = trainDataset.randomSplit([0.8, 0.2], seed = 100)\n",
        "\n",
        "print(\"Training Dataset Count: \" + str(trainingData.count()))\n",
        "print(\"Test Dataset Count: \" + str(testData.count()))"
      ]
    },
    {
      "cell_type": "code",
      "execution_count": 27,
      "metadata": {
        "colab": {
          "base_uri": "https://localhost:8080/"
        },
        "id": "UdyTgu7GgAzb",
        "outputId": "1aec83fe-7d3c-4e70-f979-f7f2d22dad82"
      },
      "outputs": [
        {
          "output_type": "stream",
          "name": "stdout",
          "text": [
            "lemma_antbnc download started this may take some time.\n",
            "Approximate size to download 907.6 KB\n",
            "[OK!]\n"
          ]
        }
      ],
      "source": [
        "#cleaning the text column i.e., review_text\n",
        "document_assembler = DocumentAssembler() \\\n",
        "    .setInputCol(\"Review_Text\") \\\n",
        "    .setOutputCol(\"document\")\n",
        "\n",
        "tokenizer = Tokenizer() \\\n",
        "    .setInputCols([\"document\"]) \\\n",
        "    .setOutputCol(\"token\")\n",
        "\n",
        "normalizer = Normalizer() \\\n",
        "    .setInputCols([\"token\"]) \\\n",
        "    .setOutputCol(\"normalized\")\n",
        "\n",
        "stopwords_cleaner = StopWordsCleaner()\\\n",
        "    .setInputCols(\"normalized\")\\\n",
        "    .setOutputCol(\"cleanTokens\")\\\n",
        "    .setCaseSensitive(False)\n",
        "\n",
        "lemma = LemmatizerModel.pretrained('lemma_antbnc') \\\n",
        "    .setInputCols([\"cleanTokens\"]) \\\n",
        "    .setOutputCol(\"lemma\")"
      ]
    },
    {
      "cell_type": "code",
      "execution_count": 28,
      "metadata": {
        "colab": {
          "base_uri": "https://localhost:8080/"
        },
        "id": "9Jq7bHDFgJ6T",
        "outputId": "6fae3007-c7fe-4692-9566-3da7117a7a60"
      },
      "outputs": [
        {
          "output_type": "stream",
          "name": "stdout",
          "text": [
            "glove_100d download started this may take some time.\n",
            "Approximate size to download 145.3 MB\n",
            "[OK!]\n"
          ]
        }
      ],
      "source": [
        "glove_embeddings = WordEmbeddingsModel().pretrained() \\\n",
        "      .setInputCols([\"document\",'lemma'])\\\n",
        "      .setOutputCol(\"embeddings\")\\\n",
        "      .setCaseSensitive(False)\n",
        "\n",
        "embeddingsSentence = SentenceEmbeddings() \\\n",
        "      .setInputCols([\"document\", \"embeddings\"]) \\\n",
        "      .setOutputCol(\"sentence_embeddings\") \\\n",
        "      .setPoolingStrategy(\"AVERAGE\")\n",
        "\n",
        "classsifierdl = ClassifierDLApproach()\\\n",
        "      .setInputCols([\"sentence_embeddings\"])\\\n",
        "      .setOutputCol(\"class\")\\\n",
        "      .setLabelColumn(\"Rating\")\\\n",
        "      .setMaxEpochs(100)\\\n",
        "      .setEnableOutputLogs(True)\n",
        "\n",
        "clf_pipeline = Pipeline(\n",
        "    stages=[document_assembler, \n",
        "            tokenizer,\n",
        "            normalizer,\n",
        "            stopwords_cleaner, \n",
        "            lemma, \n",
        "            glove_embeddings,\n",
        "            embeddingsSentence,\n",
        "            classsifierdl])"
      ]
    },
    {
      "cell_type": "code",
      "execution_count": 29,
      "metadata": {
        "id": "jm4cnOs4gfkn"
      },
      "outputs": [],
      "source": [
        "#fitting the model\n",
        "clf_pipelineModel = clf_pipeline.fit(trainingData)"
      ]
    },
    {
      "cell_type": "code",
      "execution_count": 30,
      "metadata": {
        "id": "P_aKA_ALgkiE"
      },
      "outputs": [],
      "source": [
        "#transforming the model\n",
        "preds = clf_pipelineModel.transform(testData)"
      ]
    },
    {
      "cell_type": "code",
      "execution_count": 31,
      "metadata": {
        "colab": {
          "base_uri": "https://localhost:8080/"
        },
        "id": "Hi_3hWFvhUll",
        "outputId": "d8c19651-a60b-48ca-a1c0-ad1d307860b5"
      },
      "outputs": [
        {
          "output_type": "stream",
          "name": "stdout",
          "text": [
            "+--------+--------------------------------------------------------------------------------+----------+\n",
            "|  Rating|                                                                     Review_Text|    result|\n",
            "+--------+--------------------------------------------------------------------------------+----------+\n",
            "|Positive|This was our first Disneyland experience and overall we found it fun and ente...|[Positive]|\n",
            "|Negative|we went to Euro Disney from 1 10   5 10 and I have to say it was a rip off fr...|[Positive]|\n",
            "|Positive|Disneyland was everything we hoped for plus more. All kids dream of going to ...|[Positive]|\n",
            "|Negative|Despite being a seasoned traveller I just couldn't cope with the cultural dif...|[Positive]|\n",
            "|Negative|This was my first visit to Disneyland as a childhood dream (now I'm 30:) and ...|[Positive]|\n",
            "|Positive|I stayed at Disneyland for 4 nights, stayed at the Kyraid for 2 nights,Cheyan...|[Positive]|\n",
            "|Positive|We took MTR from Dorsett Seaview Hotel to Disneyland. it was quite an easy an...|[Positive]|\n",
            "| Neutral|Disney in March is just too busy! Waiting 70 minutes or more for a ride is ju...|[Positive]|\n",
            "| Neutral|Chris at Guest Relations explained the numerous ride outages this way   safet...|[Positive]|\n",
            "|Positive|Visited Disney 21st   25th March 2011 .. my husband and I and our 3   year ol...|[Positive]|\n",
            "+--------+--------------------------------------------------------------------------------+----------+\n",
            "only showing top 10 rows\n",
            "\n"
          ]
        }
      ],
      "source": [
        "#viewing the select columns with results\n",
        "preds.select('Rating','Review_Text',\"class.result\").show(10, truncate=80)"
      ]
    },
    {
      "cell_type": "code",
      "execution_count": 32,
      "metadata": {
        "id": "E8d5bUJuhUoV"
      },
      "outputs": [],
      "source": [
        "#converting the spark dataframe to pandas dataframe\n",
        "preds_df = preds.select('Rating','Review_Text',\"class.result\").toPandas()"
      ]
    },
    {
      "cell_type": "code",
      "execution_count": 33,
      "metadata": {
        "id": "QNn0namOhU1s"
      },
      "outputs": [],
      "source": [
        "preds_df['result'] = preds_df['result'].apply(lambda x : x[0])"
      ]
    },
    {
      "cell_type": "code",
      "execution_count": 34,
      "metadata": {
        "colab": {
          "base_uri": "https://localhost:8080/"
        },
        "id": "SGY7tHKMiDUp",
        "outputId": "efba5a23-e46e-43ef-ce51-aa6c73ef025d"
      },
      "outputs": [
        {
          "output_type": "stream",
          "name": "stderr",
          "text": [
            "/usr/local/lib/python3.7/dist-packages/sklearn/metrics/_classification.py:1308: UndefinedMetricWarning:\n",
            "\n",
            "Recall and F-score are ill-defined and being set to 0.0 in labels with no true samples. Use `zero_division` parameter to control this behavior.\n",
            "\n",
            "/usr/local/lib/python3.7/dist-packages/sklearn/metrics/_classification.py:1308: UndefinedMetricWarning:\n",
            "\n",
            "Recall and F-score are ill-defined and being set to 0.0 in labels with no true samples. Use `zero_division` parameter to control this behavior.\n",
            "\n"
          ]
        },
        {
          "output_type": "stream",
          "name": "stdout",
          "text": [
            "              precision    recall  f1-score   support\n",
            "\n",
            "    Negative       0.00      0.00      0.00         0\n",
            "     Neutral       0.00      0.00      0.00         0\n",
            "    Positive       1.00      0.80      0.89      8477\n",
            "\n",
            "    accuracy                           0.80      8477\n",
            "   macro avg       0.33      0.27      0.30      8477\n",
            "weighted avg       1.00      0.80      0.89      8477\n",
            "\n"
          ]
        },
        {
          "output_type": "stream",
          "name": "stderr",
          "text": [
            "/usr/local/lib/python3.7/dist-packages/sklearn/metrics/_classification.py:1308: UndefinedMetricWarning:\n",
            "\n",
            "Recall and F-score are ill-defined and being set to 0.0 in labels with no true samples. Use `zero_division` parameter to control this behavior.\n",
            "\n"
          ]
        }
      ],
      "source": [
        "#printing the classification report\n",
        "from sklearn.metrics import classification_report\n",
        "\n",
        "print (classification_report(preds_df['result'], preds_df['Rating']))"
      ]
    },
    {
      "cell_type": "markdown",
      "metadata": {
        "id": "khC4ZQRrl4-Q"
      },
      "source": [
        "BERT EMBEDDINGS"
      ]
    },
    {
      "cell_type": "code",
      "execution_count": 35,
      "metadata": {
        "colab": {
          "base_uri": "https://localhost:8080/"
        },
        "id": "CkWUQC4ZiFTt",
        "outputId": "847a64e4-e3d4-43dd-9db1-05b0d842572c"
      },
      "outputs": [
        {
          "output_type": "stream",
          "name": "stdout",
          "text": [
            "small_bert_L4_256 download started this may take some time.\n",
            "Approximate size to download 40.5 MB\n",
            "[OK!]\n"
          ]
        }
      ],
      "source": [
        "epochs = 4\n",
        "\n",
        "document_assembler = DocumentAssembler() \\\n",
        "    .setInputCol(\"Review_Text\") \\\n",
        "    .setOutputCol(\"document\")\n",
        "    \n",
        "tokenizer = Tokenizer() \\\n",
        "    .setInputCols([\"document\"]) \\\n",
        "    .setOutputCol(\"token\")\n",
        "      \n",
        "bert_embeddings = BertEmbeddings().pretrained(name='small_bert_L4_256', lang='en') \\\n",
        "    .setInputCols([\"document\",'token'])\\\n",
        "    .setOutputCol(\"embeddings\")\n",
        "\n",
        "embeddingsSentence = SentenceEmbeddings() \\\n",
        "    .setInputCols([\"document\", \"embeddings\"]) \\\n",
        "    .setOutputCol(\"sentence_embeddings\") \\\n",
        "    .setPoolingStrategy(\"AVERAGE\")\n",
        "\n",
        "classsifierdl = ClassifierDLApproach()\\\n",
        "    .setInputCols([\"sentence_embeddings\"])\\\n",
        "    .setOutputCol(\"class\")\\\n",
        "    .setLabelColumn(\"Rating\")\\\n",
        "    .setMaxEpochs(epochs)\\\n",
        "    .setLr(0.001)\\\n",
        "    .setBatchSize(8)\\\n",
        "    .setEnableOutputLogs(True)\n",
        "    #.setOutputLogsPath('logs')\n",
        "\n",
        "bert_clf_pipeline = Pipeline(stages=[\n",
        "    document_assembler, \n",
        "    tokenizer,\n",
        "    bert_embeddings,\n",
        "    embeddingsSentence,\n",
        "    classsifierdl\n",
        "])"
      ]
    },
    {
      "cell_type": "code",
      "execution_count": 36,
      "metadata": {
        "id": "S4-wtr-FmCkx"
      },
      "outputs": [],
      "source": [
        "bert_clf_pipelineModel = bert_clf_pipeline.fit(trainingData)"
      ]
    },
    {
      "cell_type": "code",
      "execution_count": 37,
      "metadata": {
        "colab": {
          "base_uri": "https://localhost:8080/"
        },
        "id": "hmfbNZYqmFlc",
        "outputId": "0d40d528-750a-46ef-f315-091743613527"
      },
      "outputs": [
        {
          "output_type": "stream",
          "name": "stderr",
          "text": [
            "/usr/local/lib/python3.7/dist-packages/sklearn/metrics/_classification.py:1308: UndefinedMetricWarning:\n",
            "\n",
            "Recall and F-score are ill-defined and being set to 0.0 in labels with no true samples. Use `zero_division` parameter to control this behavior.\n",
            "\n",
            "/usr/local/lib/python3.7/dist-packages/sklearn/metrics/_classification.py:1308: UndefinedMetricWarning:\n",
            "\n",
            "Recall and F-score are ill-defined and being set to 0.0 in labels with no true samples. Use `zero_division` parameter to control this behavior.\n",
            "\n"
          ]
        },
        {
          "output_type": "stream",
          "name": "stdout",
          "text": [
            "              precision    recall  f1-score   support\n",
            "\n",
            "    Negative       0.00      0.00      0.00         0\n",
            "     Neutral       0.00      0.00      0.00         0\n",
            "    Positive       1.00      0.80      0.89      8477\n",
            "\n",
            "    accuracy                           0.80      8477\n",
            "   macro avg       0.33      0.27      0.30      8477\n",
            "weighted avg       1.00      0.80      0.89      8477\n",
            "\n"
          ]
        },
        {
          "output_type": "stream",
          "name": "stderr",
          "text": [
            "/usr/local/lib/python3.7/dist-packages/sklearn/metrics/_classification.py:1308: UndefinedMetricWarning:\n",
            "\n",
            "Recall and F-score are ill-defined and being set to 0.0 in labels with no true samples. Use `zero_division` parameter to control this behavior.\n",
            "\n"
          ]
        }
      ],
      "source": [
        "from sklearn.metrics import classification_report\n",
        "\n",
        "preds = bert_clf_pipelineModel.transform(testData)\n",
        "\n",
        "preds_df = preds.select('Rating','Review_Text',\"class.result\").toPandas()\n",
        "\n",
        "preds_df['result'] = preds_df['result'].apply(lambda x : x[0])\n",
        "\n",
        "print (classification_report(preds_df['result'], preds_df['Rating']))"
      ]
    },
    {
      "cell_type": "markdown",
      "metadata": {
        "id": "1S4JReNwpfNj"
      },
      "source": [
        "**CLASSIFER DL**"
      ]
    },
    {
      "cell_type": "code",
      "execution_count": 38,
      "metadata": {
        "colab": {
          "base_uri": "https://localhost:8080/"
        },
        "id": "qLjedsxTpjrs",
        "outputId": "ef494350-4789-418d-d1d8-7c4d6c3573ad"
      },
      "outputs": [
        {
          "output_type": "stream",
          "name": "stdout",
          "text": [
            "tfhub_use_lg download started this may take some time.\n",
            "Approximate size to download 753.3 MB\n",
            "[OK!]\n"
          ]
        }
      ],
      "source": [
        "from sparknlp.base import *\n",
        "\n",
        "# actual content is inside description column\n",
        "document = DocumentAssembler()\\\n",
        "      .setInputCol(\"Review_Text\")\\\n",
        "      .setOutputCol(\"document\")\n",
        "\n",
        "# we can also use sentece detector here if we want to train on and get predictions for each sentence\n",
        "use = UniversalSentenceEncoder.pretrained(\"tfhub_use_lg\", \"en\") \\\n",
        "      .setInputCols(\"document\") \\\n",
        "      .setOutputCol(\"sentence_embeddings\")\n",
        "\n",
        "# the classes/labels/categories are in category column\n",
        "classsifierdl = ClassifierDLApproach()\\\n",
        "      .setInputCols([\"sentence_embeddings\"])\\\n",
        "      .setOutputCol(\"class\")\\\n",
        "      .setLabelColumn(\"Rating\")\\\n",
        "      .setMaxEpochs(3)\\\n",
        "      .setLr(0.001)\\\n",
        "      .setBatchSize(8)\\\n",
        "      .setEnableOutputLogs(True)\n",
        "\n",
        "use_clf_pipeline = Pipeline(\n",
        "    stages = [\n",
        "        document,\n",
        "        use,\n",
        "        classsifierdl\n",
        "    ])"
      ]
    },
    {
      "cell_type": "code",
      "execution_count": 39,
      "metadata": {
        "id": "IvBbavgmp9cH"
      },
      "outputs": [],
      "source": [
        "use_pipelineModel = use_clf_pipeline.fit(trainDataset)"
      ]
    },
    {
      "cell_type": "code",
      "execution_count": 40,
      "metadata": {
        "colab": {
          "base_uri": "https://localhost:8080/"
        },
        "id": "qzWfnJ3ip-O9",
        "outputId": "b5a40d3f-0e87-46af-be2a-502dc99e056c"
      },
      "outputs": [
        {
          "output_type": "stream",
          "name": "stdout",
          "text": [
            "sent_small_bert_L8_512 download started this may take some time.\n",
            "Approximate size to download 149.1 MB\n",
            "[OK!]\n"
          ]
        }
      ],
      "source": [
        "# actual content is inside description column\n",
        "document = DocumentAssembler()\\\n",
        "      .setInputCol(\"Review_Text\")\\\n",
        "      .setOutputCol(\"document\")\n",
        "    \n",
        "# we can also use sentece detector here if we want to train on and get predictions for each sentence\n",
        "\n",
        "bert_sent = BertSentenceEmbeddings.pretrained('sent_small_bert_L8_512')\\\n",
        "      .setInputCols([\"document\"])\\\n",
        "      .setOutputCol(\"sentence_embeddings\")\n",
        "\n",
        "# the classes/labels/categories are in category column\n",
        "classsifierdl = ClassifierDLApproach()\\\n",
        "      .setInputCols([\"sentence_embeddings\"])\\\n",
        "      .setOutputCol(\"class\")\\\n",
        "      .setLabelColumn(\"Rating\")\\\n",
        "      .setMaxEpochs(10)\\\n",
        "      .setEnableOutputLogs(True)\\\n",
        "      .setLr(0.001)\n",
        "\n",
        "bert_sent_clf_pipeline = Pipeline(\n",
        "    stages = [\n",
        "        document,\n",
        "        bert_sent,\n",
        "        classsifierdl\n",
        "    ])"
      ]
    },
    {
      "cell_type": "code",
      "execution_count": null,
      "metadata": {
        "id": "_jyPWZqdqAjG"
      },
      "outputs": [],
      "source": [
        "bert_sent_pipelineModel = bert_sent_clf_pipeline.fit(trainDataset)"
      ]
    },
    {
      "cell_type": "code",
      "execution_count": null,
      "metadata": {
        "id": "lUla7l76qGCS"
      },
      "outputs": [],
      "source": [
        "from sklearn.metrics import classification_report\n",
        "\n",
        "preds = bert_sent_pipelineModel.transform(testDataset)\n",
        "\n",
        "preds_df = preds.select('category','description',\"class.result\").toPandas()\n",
        "\n",
        "preds_df['result'] = preds_df['result'].apply(lambda x : x[0])\n",
        "\n",
        "print (classification_report(preds_df['result'], preds_df['category']))"
      ]
    }
  ],
  "metadata": {
    "colab": {
      "collapsed_sections": [],
      "name": "Disneyland_Reviews_Classification.ipynb",
      "provenance": []
    },
    "kernelspec": {
      "display_name": "Python 3",
      "name": "python3"
    },
    "language_info": {
      "name": "python"
    }
  },
  "nbformat": 4,
  "nbformat_minor": 0
}